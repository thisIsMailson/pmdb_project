{
 "cells": [
  {
   "cell_type": "markdown",
   "id": "917fbe7d",
   "metadata": {},
   "source": [
    "# Download files from AWS Registry of Open Data\n",
    "\n",
    "This notebook allows to download files from a particular dataset stored in AWS's S3, given its Amazon Resource Name (ARN)\n",
    "\n",
    "See https://registry.opendata.aws/\n",
    "\n",
    "The downloading process relies on the usage of the package boto3. See also\n",
    "\n",
    "https://boto3.amazonaws.com/v1/documentation/api/latest/index.html\n",
    "\n",
    "https://boto3.amazonaws.com/v1/documentation/api/latest/guide/s3-examples.html\n",
    "\n",
    "\n",
    "PS. Feel free to adjust the code"
   ]
  },
  {
   "cell_type": "code",
   "execution_count": 1,
   "id": "b96ee746",
   "metadata": {},
   "outputs": [
    {
     "name": "stdout",
     "output_type": "stream",
     "text": [
      "\u001b[33mDEPRECATION: Configuring installation scheme with distutils config files is deprecated and will no longer work in the near future. If you are using a Homebrew or Linuxbrew Python, please see discussion at https://github.com/Homebrew/homebrew-core/issues/76621\u001b[0m\u001b[33m\n",
      "\u001b[0mCollecting boto3\n",
      "  Downloading boto3-1.21.33-py3-none-any.whl (132 kB)\n",
      "\u001b[2K     \u001b[90m━━━━━━━━━━━━━━━━━━━━━━━━━━━━━━━━━━━━━━━\u001b[0m \u001b[32m132.4/132.4 KB\u001b[0m \u001b[31m1.5 MB/s\u001b[0m eta \u001b[36m0:00:00\u001b[0ma \u001b[36m0:00:01\u001b[0m\n",
      "\u001b[?25hCollecting s3transfer<0.6.0,>=0.5.0\n",
      "  Downloading s3transfer-0.5.2-py3-none-any.whl (79 kB)\n",
      "\u001b[2K     \u001b[90m━━━━━━━━━━━━━━━━━━━━━━━━━━━━━━━━━━━━━━━━\u001b[0m \u001b[32m79.5/79.5 KB\u001b[0m \u001b[31m1.3 MB/s\u001b[0m eta \u001b[36m0:00:00\u001b[0mta \u001b[36m0:00:01\u001b[0m\n",
      "\u001b[?25hCollecting jmespath<2.0.0,>=0.7.1\n",
      "  Downloading jmespath-1.0.0-py3-none-any.whl (23 kB)\n",
      "Collecting botocore<1.25.0,>=1.24.33\n",
      "  Downloading botocore-1.24.33-py3-none-any.whl (8.6 MB)\n",
      "\u001b[2K     \u001b[90m━━━━━━━━━━━━━━━━━━━━━━━━━━━━━━━━━━━━━━━━\u001b[0m \u001b[32m8.6/8.6 MB\u001b[0m \u001b[31m1.4 MB/s\u001b[0m eta \u001b[36m0:00:00\u001b[0m00:01\u001b[0m00:01\u001b[0m\n",
      "\u001b[?25hRequirement already satisfied: python-dateutil<3.0.0,>=2.1 in /usr/local/lib/python3.9/site-packages (from botocore<1.25.0,>=1.24.33->boto3) (2.8.2)\n",
      "Collecting urllib3<1.27,>=1.25.4\n",
      "  Downloading urllib3-1.26.9-py2.py3-none-any.whl (138 kB)\n",
      "\u001b[2K     \u001b[90m━━━━━━━━━━━━━━━━━━━━━━━━━━━━━━━━━━━━━\u001b[0m \u001b[32m139.0/139.0 KB\u001b[0m \u001b[31m602.4 kB/s\u001b[0m eta \u001b[36m0:00:00\u001b[0ma \u001b[36m0:00:01\u001b[0m\n",
      "\u001b[?25hRequirement already satisfied: six>=1.5 in /usr/local/lib/python3.9/site-packages (from python-dateutil<3.0.0,>=2.1->botocore<1.25.0,>=1.24.33->boto3) (1.16.0)\n",
      "Installing collected packages: urllib3, jmespath, botocore, s3transfer, boto3\n",
      "\u001b[33m  DEPRECATION: Configuring installation scheme with distutils config files is deprecated and will no longer work in the near future. If you are using a Homebrew or Linuxbrew Python, please see discussion at https://github.com/Homebrew/homebrew-core/issues/76621\u001b[0m\u001b[33m\n",
      "\u001b[0m\u001b[33m  DEPRECATION: Configuring installation scheme with distutils config files is deprecated and will no longer work in the near future. If you are using a Homebrew or Linuxbrew Python, please see discussion at https://github.com/Homebrew/homebrew-core/issues/76621\u001b[0m\u001b[33m\n",
      "\u001b[0m\u001b[33m  DEPRECATION: Configuring installation scheme with distutils config files is deprecated and will no longer work in the near future. If you are using a Homebrew or Linuxbrew Python, please see discussion at https://github.com/Homebrew/homebrew-core/issues/76621\u001b[0m\u001b[33m\n",
      "\u001b[0m\u001b[33m  DEPRECATION: Configuring installation scheme with distutils config files is deprecated and will no longer work in the near future. If you are using a Homebrew or Linuxbrew Python, please see discussion at https://github.com/Homebrew/homebrew-core/issues/76621\u001b[0m\u001b[33m\n",
      "\u001b[0m\u001b[33m  DEPRECATION: Configuring installation scheme with distutils config files is deprecated and will no longer work in the near future. If you are using a Homebrew or Linuxbrew Python, please see discussion at https://github.com/Homebrew/homebrew-core/issues/76621\u001b[0m\u001b[33m\n",
      "\u001b[0m\u001b[33mDEPRECATION: Configuring installation scheme with distutils config files is deprecated and will no longer work in the near future. If you are using a Homebrew or Linuxbrew Python, please see discussion at https://github.com/Homebrew/homebrew-core/issues/76621\u001b[0m\u001b[33m\n",
      "\u001b[0mSuccessfully installed boto3-1.21.33 botocore-1.24.33 jmespath-1.0.0 s3transfer-0.5.2 urllib3-1.26.9\n"
     ]
    }
   ],
   "source": [
    "! pip3 install boto3\n"
   ]
  },
  {
   "cell_type": "code",
   "execution_count": 8,
   "id": "545fcd85",
   "metadata": {},
   "outputs": [],
   "source": [
    "import os\n",
    "import boto3\n"
   ]
  },
  {
   "cell_type": "code",
   "execution_count": 9,
   "id": "944953a6",
   "metadata": {},
   "outputs": [],
   "source": [
    "from botocore import UNSIGNED\n",
    "from botocore.client import Config\n"
   ]
  },
  {
   "cell_type": "code",
   "execution_count": 2,
   "id": "73541d9e",
   "metadata": {},
   "outputs": [],
   "source": [
    "# Print out the objects' name in a specified bucket, given the s3 resource.\n",
    "# Optionally, filters specific names\n",
    "\n",
    "def print_all_objects_name(s3_resource, bucket_name, name_word = \"\"):\n",
    "    \n",
    "    # select bucket\n",
    "    my_bucket = s3_resource.Bucket(bucket_name)\n",
    "    \n",
    "    # print out name\n",
    "    for s3_object in my_bucket.objects.all():\n",
    "        filename = s3_object.key\n",
    "        if name_word == \"\" or name_word in filename:\n",
    "            print(filename)\n",
    "        "
   ]
  },
  {
   "cell_type": "code",
   "execution_count": 3,
   "id": "def2ce6d",
   "metadata": {},
   "outputs": [],
   "source": [
    "# Print out the objects' name in a sub-folder of a S3 bucket, given the s3 resource.\n",
    "# Optionally, filters specific names\n",
    "\n",
    "def print_all_objects_name_in_folder(s3_resource, bucket_name, prefix, name_word = \"\"):\n",
    "    \n",
    "    # select bucket and objects\n",
    "    my_bucket = s3_resource.Bucket(bucket_name)\n",
    "    \n",
    "    objects = my_bucket.objects.filter(Prefix=prefix)\n",
    "    for obj in objects:\n",
    "        filename = obj.key\n",
    "        if name_word == \"\" or name_word in filename:  \n",
    "            print(filename)\n",
    "            "
   ]
  },
  {
   "cell_type": "code",
   "execution_count": 4,
   "id": "73cadeb5",
   "metadata": {},
   "outputs": [],
   "source": [
    "# Download all objects in a sub-folder of a S3 bucket, given the s3 resource.\n",
    "# Optionally, filters specific names\n",
    "\n",
    "def download_all_objects_in_folder(s3_resource, bucket_name, prefix, name_word = \"\"):\n",
    "    \n",
    "    # select bucket and objects\n",
    "    my_bucket = s3_resource.Bucket(bucket_name)\n",
    "    \n",
    "    objects = my_bucket.objects.filter(Prefix=prefix)\n",
    "    for obj in objects:\n",
    "        path, filename = os.path.split(obj.key)\n",
    "        if name_word == \"\" or name_word in filename:\n",
    "            my_bucket.download_file(obj.key, filename)\n",
    "        "
   ]
  },
  {
   "cell_type": "code",
   "execution_count": 5,
   "id": "c3f84773",
   "metadata": {},
   "outputs": [],
   "source": [
    "# Download all objects in a sub-folder of a S3 bucket, given the s3 resource.\n",
    "# Optionally, filters specific names\n",
    "\n",
    "def download_all_objects_in_folder_with_complete_name(s3_resource, bucket_name, prefix, name_word = \"\"):\n",
    "    \n",
    "    # select bucket and objects\n",
    "    my_bucket = s3_resource.Bucket(bucket_name)\n",
    "    \n",
    "    objects = my_bucket.objects.filter(Prefix=prefix)\n",
    "    for obj in objects:\n",
    "        path, filename = os.path.split(obj.key)\n",
    "        complete_filename = path.replace('/', '|') + '|' + filename\n",
    "        if name_word == \"\" or name_word in filename:\n",
    "            my_bucket.download_file(obj.key, complete_filename)\n",
    "        "
   ]
  },
  {
   "cell_type": "code",
   "execution_count": 6,
   "id": "64463d49",
   "metadata": {},
   "outputs": [],
   "source": [
    "# Download all S3 objects in a specified bucket, given the s3 resource.\n",
    "# Optionally, filters specific names\n",
    "\n",
    "def download_all_obects(s3_resource, bucket_name, name_word = \"\"):\n",
    "    \n",
    "    # select bucket\n",
    "    my_bucket = s3_resource.Bucket(bucket_name)\n",
    "    \n",
    "    # download file into current directory\n",
    "    for s3_object in my_bucket.objects.all():\n",
    "        filename = s3_object.key\n",
    "        if name_word == \"\" or name_word in filename:\n",
    "            my_bucket.download_file(s3_object.key, filename)\n",
    "        "
   ]
  },
  {
   "cell_type": "code",
   "execution_count": 10,
   "id": "cf8150a2",
   "metadata": {},
   "outputs": [],
   "source": [
    "# Initiate S3 resource\n",
    "\n",
    "s3_resource = boto3.resource('s3', config=Config(signature_version=UNSIGNED))\n"
   ]
  },
  {
   "cell_type": "code",
   "execution_count": 11,
   "id": "58d5a5f7",
   "metadata": {},
   "outputs": [],
   "source": [
    "# Set S3 resource name of interest\n",
    "\n",
    "BUCKET_NAME = 'tcga-2-open' # the name under \"Amazon Resource Name (ARN)\"\n"
   ]
  },
  {
   "cell_type": "code",
   "execution_count": 12,
   "id": "4e49ff9a",
   "metadata": {},
   "outputs": [],
   "source": [
    "# Particular word in the filename, if it is of interest\n",
    "# e.g. csv, json, parquet\n",
    "\n",
    "WORD_IN_FILENAME = 'csv' # to get only the csv data type from the bucket_name \n"
   ]
  },
  {
   "cell_type": "code",
   "execution_count": 13,
   "id": "9592d77a",
   "metadata": {},
   "outputs": [
    {
     "ename": "NoSuchBucket",
     "evalue": "An error occurred (NoSuchBucket) when calling the ListObjects operation: The specified bucket does not exist",
     "output_type": "error",
     "traceback": [
      "\u001b[0;31m---------------------------------------------------------------------------\u001b[0m",
      "\u001b[0;31mNoSuchBucket\u001b[0m                              Traceback (most recent call last)",
      "Input \u001b[0;32mIn [13]\u001b[0m, in \u001b[0;36m<cell line: 3>\u001b[0;34m()\u001b[0m\n\u001b[1;32m      1\u001b[0m \u001b[38;5;66;03m# print_all_objects_name(s3_resource, BUCKET_NAME)\u001b[39;00m\n\u001b[0;32m----> 3\u001b[0m \u001b[43mprint_all_objects_name\u001b[49m\u001b[43m(\u001b[49m\u001b[43ms3_resource\u001b[49m\u001b[43m,\u001b[49m\u001b[43m \u001b[49m\u001b[43mBUCKET_NAME\u001b[49m\u001b[43m,\u001b[49m\u001b[43m \u001b[49m\u001b[43mWORD_IN_FILENAME\u001b[49m\u001b[43m)\u001b[49m\n",
      "Input \u001b[0;32mIn [2]\u001b[0m, in \u001b[0;36mprint_all_objects_name\u001b[0;34m(s3_resource, bucket_name, name_word)\u001b[0m\n\u001b[1;32m      7\u001b[0m my_bucket \u001b[38;5;241m=\u001b[39m s3_resource\u001b[38;5;241m.\u001b[39mBucket(bucket_name)\n\u001b[1;32m      9\u001b[0m \u001b[38;5;66;03m# print out name\u001b[39;00m\n\u001b[0;32m---> 10\u001b[0m \u001b[38;5;28;01mfor\u001b[39;00m s3_object \u001b[38;5;129;01min\u001b[39;00m my_bucket\u001b[38;5;241m.\u001b[39mobjects\u001b[38;5;241m.\u001b[39mall():\n\u001b[1;32m     11\u001b[0m     filename \u001b[38;5;241m=\u001b[39m s3_object\u001b[38;5;241m.\u001b[39mkey\n\u001b[1;32m     12\u001b[0m     \u001b[38;5;28;01mif\u001b[39;00m name_word \u001b[38;5;241m==\u001b[39m \u001b[38;5;124m\"\u001b[39m\u001b[38;5;124m\"\u001b[39m \u001b[38;5;129;01mor\u001b[39;00m name_word \u001b[38;5;129;01min\u001b[39;00m filename:\n",
      "File \u001b[0;32m/usr/local/lib/python3.9/site-packages/boto3/resources/collection.py:81\u001b[0m, in \u001b[0;36mResourceCollection.__iter__\u001b[0;34m(self)\u001b[0m\n\u001b[1;32m     78\u001b[0m limit \u001b[38;5;241m=\u001b[39m \u001b[38;5;28mself\u001b[39m\u001b[38;5;241m.\u001b[39m_params\u001b[38;5;241m.\u001b[39mget(\u001b[38;5;124m'\u001b[39m\u001b[38;5;124mlimit\u001b[39m\u001b[38;5;124m'\u001b[39m, \u001b[38;5;28;01mNone\u001b[39;00m)\n\u001b[1;32m     80\u001b[0m count \u001b[38;5;241m=\u001b[39m \u001b[38;5;241m0\u001b[39m\n\u001b[0;32m---> 81\u001b[0m \u001b[38;5;28;01mfor\u001b[39;00m page \u001b[38;5;129;01min\u001b[39;00m \u001b[38;5;28mself\u001b[39m\u001b[38;5;241m.\u001b[39mpages():\n\u001b[1;32m     82\u001b[0m     \u001b[38;5;28;01mfor\u001b[39;00m item \u001b[38;5;129;01min\u001b[39;00m page:\n\u001b[1;32m     83\u001b[0m         \u001b[38;5;28;01myield\u001b[39;00m item\n",
      "File \u001b[0;32m/usr/local/lib/python3.9/site-packages/boto3/resources/collection.py:171\u001b[0m, in \u001b[0;36mResourceCollection.pages\u001b[0;34m(self)\u001b[0m\n\u001b[1;32m    168\u001b[0m \u001b[38;5;66;03m# Now that we have a page iterator or single page of results\u001b[39;00m\n\u001b[1;32m    169\u001b[0m \u001b[38;5;66;03m# we start processing and yielding individual items.\u001b[39;00m\n\u001b[1;32m    170\u001b[0m count \u001b[38;5;241m=\u001b[39m \u001b[38;5;241m0\u001b[39m\n\u001b[0;32m--> 171\u001b[0m \u001b[38;5;28;01mfor\u001b[39;00m page \u001b[38;5;129;01min\u001b[39;00m pages:\n\u001b[1;32m    172\u001b[0m     page_items \u001b[38;5;241m=\u001b[39m []\n\u001b[1;32m    173\u001b[0m     \u001b[38;5;28;01mfor\u001b[39;00m item \u001b[38;5;129;01min\u001b[39;00m \u001b[38;5;28mself\u001b[39m\u001b[38;5;241m.\u001b[39m_handler(\u001b[38;5;28mself\u001b[39m\u001b[38;5;241m.\u001b[39m_parent, params, page):\n",
      "File \u001b[0;32m/usr/local/lib/python3.9/site-packages/botocore/paginate.py:253\u001b[0m, in \u001b[0;36mPageIterator.__iter__\u001b[0;34m(self)\u001b[0m\n\u001b[1;32m    251\u001b[0m \u001b[38;5;28mself\u001b[39m\u001b[38;5;241m.\u001b[39m_inject_starting_params(current_kwargs)\n\u001b[1;32m    252\u001b[0m \u001b[38;5;28;01mwhile\u001b[39;00m \u001b[38;5;28;01mTrue\u001b[39;00m:\n\u001b[0;32m--> 253\u001b[0m     response \u001b[38;5;241m=\u001b[39m \u001b[38;5;28;43mself\u001b[39;49m\u001b[38;5;241;43m.\u001b[39;49m\u001b[43m_make_request\u001b[49m\u001b[43m(\u001b[49m\u001b[43mcurrent_kwargs\u001b[49m\u001b[43m)\u001b[49m\n\u001b[1;32m    254\u001b[0m     parsed \u001b[38;5;241m=\u001b[39m \u001b[38;5;28mself\u001b[39m\u001b[38;5;241m.\u001b[39m_extract_parsed_response(response)\n\u001b[1;32m    255\u001b[0m     \u001b[38;5;28;01mif\u001b[39;00m first_request:\n\u001b[1;32m    256\u001b[0m         \u001b[38;5;66;03m# The first request is handled differently.  We could\u001b[39;00m\n\u001b[1;32m    257\u001b[0m         \u001b[38;5;66;03m# possibly have a resume/starting token that tells us where\u001b[39;00m\n\u001b[1;32m    258\u001b[0m         \u001b[38;5;66;03m# to index into the retrieved page.\u001b[39;00m\n",
      "File \u001b[0;32m/usr/local/lib/python3.9/site-packages/botocore/paginate.py:332\u001b[0m, in \u001b[0;36mPageIterator._make_request\u001b[0;34m(self, current_kwargs)\u001b[0m\n\u001b[1;32m    331\u001b[0m \u001b[38;5;28;01mdef\u001b[39;00m \u001b[38;5;21m_make_request\u001b[39m(\u001b[38;5;28mself\u001b[39m, current_kwargs):\n\u001b[0;32m--> 332\u001b[0m     \u001b[38;5;28;01mreturn\u001b[39;00m \u001b[38;5;28;43mself\u001b[39;49m\u001b[38;5;241;43m.\u001b[39;49m\u001b[43m_method\u001b[49m\u001b[43m(\u001b[49m\u001b[38;5;241;43m*\u001b[39;49m\u001b[38;5;241;43m*\u001b[39;49m\u001b[43mcurrent_kwargs\u001b[49m\u001b[43m)\u001b[49m\n",
      "File \u001b[0;32m/usr/local/lib/python3.9/site-packages/botocore/client.py:401\u001b[0m, in \u001b[0;36mClientCreator._create_api_method.<locals>._api_call\u001b[0;34m(self, *args, **kwargs)\u001b[0m\n\u001b[1;32m    398\u001b[0m     \u001b[38;5;28;01mraise\u001b[39;00m \u001b[38;5;167;01mTypeError\u001b[39;00m(\n\u001b[1;32m    399\u001b[0m         \u001b[38;5;124m\"\u001b[39m\u001b[38;5;132;01m%s\u001b[39;00m\u001b[38;5;124m() only accepts keyword arguments.\u001b[39m\u001b[38;5;124m\"\u001b[39m \u001b[38;5;241m%\u001b[39m py_operation_name)\n\u001b[1;32m    400\u001b[0m \u001b[38;5;66;03m# The \"self\" in this scope is referring to the BaseClient.\u001b[39;00m\n\u001b[0;32m--> 401\u001b[0m \u001b[38;5;28;01mreturn\u001b[39;00m \u001b[38;5;28;43mself\u001b[39;49m\u001b[38;5;241;43m.\u001b[39;49m\u001b[43m_make_api_call\u001b[49m\u001b[43m(\u001b[49m\u001b[43moperation_name\u001b[49m\u001b[43m,\u001b[49m\u001b[43m \u001b[49m\u001b[43mkwargs\u001b[49m\u001b[43m)\u001b[49m\n",
      "File \u001b[0;32m/usr/local/lib/python3.9/site-packages/botocore/client.py:731\u001b[0m, in \u001b[0;36mBaseClient._make_api_call\u001b[0;34m(self, operation_name, api_params)\u001b[0m\n\u001b[1;32m    729\u001b[0m     error_code \u001b[38;5;241m=\u001b[39m parsed_response\u001b[38;5;241m.\u001b[39mget(\u001b[38;5;124m\"\u001b[39m\u001b[38;5;124mError\u001b[39m\u001b[38;5;124m\"\u001b[39m, {})\u001b[38;5;241m.\u001b[39mget(\u001b[38;5;124m\"\u001b[39m\u001b[38;5;124mCode\u001b[39m\u001b[38;5;124m\"\u001b[39m)\n\u001b[1;32m    730\u001b[0m     error_class \u001b[38;5;241m=\u001b[39m \u001b[38;5;28mself\u001b[39m\u001b[38;5;241m.\u001b[39mexceptions\u001b[38;5;241m.\u001b[39mfrom_code(error_code)\n\u001b[0;32m--> 731\u001b[0m     \u001b[38;5;28;01mraise\u001b[39;00m error_class(parsed_response, operation_name)\n\u001b[1;32m    732\u001b[0m \u001b[38;5;28;01melse\u001b[39;00m:\n\u001b[1;32m    733\u001b[0m     \u001b[38;5;28;01mreturn\u001b[39;00m parsed_response\n",
      "\u001b[0;31mNoSuchBucket\u001b[0m: An error occurred (NoSuchBucket) when calling the ListObjects operation: The specified bucket does not exist"
     ]
    }
   ],
   "source": [
    "# print_all_objects_name(s3_resource, BUCKET_NAME)\n",
    "\n",
    "print_all_objects_name(s3_resource, BUCKET_NAME, WORD_IN_FILENAME)\n"
   ]
  },
  {
   "cell_type": "code",
   "execution_count": null,
   "id": "4f5e5de6",
   "metadata": {},
   "outputs": [],
   "source": [
    "# Set out the related path, if it is of interest\n",
    "\n",
    "PATH_NAME = '.../'\n"
   ]
  },
  {
   "cell_type": "code",
   "execution_count": null,
   "id": "61d775c6",
   "metadata": {},
   "outputs": [],
   "source": [
    "#print_all_objects_name_in_folder(s3_resource, BUCKET_NAME, PATH_NAME)\n",
    "\n",
    "print_all_objects_name_in_folder(s3_resource, BUCKET_NAME, PATH_NAME, WORD_IN_FILENAME)\n"
   ]
  },
  {
   "cell_type": "code",
   "execution_count": null,
   "id": "a0f2db1a",
   "metadata": {},
   "outputs": [],
   "source": [
    "! pwd"
   ]
  },
  {
   "cell_type": "code",
   "execution_count": null,
   "id": "24f08d2e",
   "metadata": {},
   "outputs": [],
   "source": [
    "! ls -la"
   ]
  },
  {
   "cell_type": "code",
   "execution_count": null,
   "id": "28eb88d4",
   "metadata": {},
   "outputs": [],
   "source": [
    "#download_all_objects_in_folder(s3_resource, BUCKET_NAME, PATH_NAME)\n",
    "\n",
    "#download_all_objects_in_folder(s3_resource, BUCKET_NAME, PATH_NAME, WORD_IN_FILENAME)\n",
    "\n",
    "download_all_objects_in_folder_with_complete_name(s3_resource, BUCKET_NAME, PATH_NAME, WORD_IN_FILENAME)"
   ]
  },
  {
   "cell_type": "code",
   "execution_count": null,
   "id": "09eabbeb",
   "metadata": {},
   "outputs": [],
   "source": [
    "! ls -la"
   ]
  },
  {
   "cell_type": "raw",
   "id": "09df2deb",
   "metadata": {},
   "source": [
    "# It is not advisable to use ...\n",
    "\n",
    "# download_all_files(s3_resource, BUCKET_NAME)\n",
    "\n",
    "# download_all_files(s3_resource, BUCKET_NAME, WORD_IN_FILENAME)"
   ]
  },
  {
   "cell_type": "raw",
   "id": "7de48eba",
   "metadata": {},
   "source": [
    "Notice that downloaded files should be in one directory for reading them at once.\n",
    "Then one may use a command like:\n",
    "    \n",
    "df_raw = spark.read.load(\"Data/TheDirectory\", \n",
    "                         format=\"csv\", \n",
    "                         header=True, \n",
    "                         pathGlobFilter=\"*.csv\")"
   ]
  },
  {
   "cell_type": "code",
   "execution_count": null,
   "id": "ab85622f",
   "metadata": {},
   "outputs": [],
   "source": []
  }
 ],
 "metadata": {
  "kernelspec": {
   "display_name": "Python 3 (ipykernel)",
   "language": "python",
   "name": "python3"
  },
  "language_info": {
   "codemirror_mode": {
    "name": "ipython",
    "version": 3
   },
   "file_extension": ".py",
   "mimetype": "text/x-python",
   "name": "python",
   "nbconvert_exporter": "python",
   "pygments_lexer": "ipython3",
   "version": "3.9.12"
  }
 },
 "nbformat": 4,
 "nbformat_minor": 5
}
